{
 "cells": [
  {
   "cell_type": "markdown",
   "metadata": {},
   "source": [
    "# Data Preparation\n",
    "\n",
    "This file contains data preparation for the PV251 visualization project."
   ]
  },
  {
   "cell_type": "markdown",
   "metadata": {},
   "source": [
    "## Import modules"
   ]
  },
  {
   "cell_type": "code",
   "execution_count": 106,
   "metadata": {},
   "outputs": [],
   "source": [
    "import pandas as pd"
   ]
  },
  {
   "cell_type": "markdown",
   "metadata": {},
   "source": [
    "## Data"
   ]
  },
  {
   "cell_type": "code",
   "execution_count": 107,
   "metadata": {},
   "outputs": [],
   "source": [
    "data_days = pd.read_csv(\"data/days.csv\")\n",
    "time_slept = pd.read_csv(\"data/timeSlept.csv\")"
   ]
  },
  {
   "cell_type": "code",
   "execution_count": 108,
   "metadata": {},
   "outputs": [
    {
     "data": {
      "text/html": [
       "<div>\n",
       "<style scoped>\n",
       "    .dataframe tbody tr th:only-of-type {\n",
       "        vertical-align: middle;\n",
       "    }\n",
       "\n",
       "    .dataframe tbody tr th {\n",
       "        vertical-align: top;\n",
       "    }\n",
       "\n",
       "    .dataframe thead th {\n",
       "        text-align: right;\n",
       "    }\n",
       "</style>\n",
       "<table border=\"1\" class=\"dataframe\">\n",
       "  <thead>\n",
       "    <tr style=\"text-align: right;\">\n",
       "      <th></th>\n",
       "      <th>date</th>\n",
       "      <th>mindState</th>\n",
       "      <th>associations</th>\n",
       "      <th>descriptions</th>\n",
       "      <th>context</th>\n",
       "    </tr>\n",
       "  </thead>\n",
       "  <tbody>\n",
       "    <tr>\n",
       "      <th>0</th>\n",
       "      <td>23-12-2024</td>\n",
       "      <td>2</td>\n",
       "      <td>Family;Friends</td>\n",
       "      <td>Peaceful;Happy;Joyful</td>\n",
       "      <td>Nephew birthday party</td>\n",
       "    </tr>\n",
       "    <tr>\n",
       "      <th>1</th>\n",
       "      <td>21-12-2024</td>\n",
       "      <td>2</td>\n",
       "      <td>Family;Friends</td>\n",
       "      <td>Happy;Grateful</td>\n",
       "      <td>Scout's Christmas Event</td>\n",
       "    </tr>\n",
       "    <tr>\n",
       "      <th>2</th>\n",
       "      <td>18-12-2024</td>\n",
       "      <td>1</td>\n",
       "      <td>Education;Friends</td>\n",
       "      <td>Calm;Content</td>\n",
       "      <td>Two tests today; one was tough; one easy; deli...</td>\n",
       "    </tr>\n",
       "  </tbody>\n",
       "</table>\n",
       "</div>"
      ],
      "text/plain": [
       "         date  mindState       associations           descriptions  \\\n",
       "0  23-12-2024          2     Family;Friends  Peaceful;Happy;Joyful   \n",
       "1  21-12-2024          2     Family;Friends         Happy;Grateful   \n",
       "2  18-12-2024          1  Education;Friends           Calm;Content   \n",
       "\n",
       "                                             context  \n",
       "0                              Nephew birthday party  \n",
       "1                            Scout's Christmas Event  \n",
       "2  Two tests today; one was tough; one easy; deli...  "
      ]
     },
     "execution_count": 108,
     "metadata": {},
     "output_type": "execute_result"
    }
   ],
   "source": [
    "data_days.head()"
   ]
  },
  {
   "cell_type": "code",
   "execution_count": 109,
   "metadata": {},
   "outputs": [
    {
     "data": {
      "text/plain": [
       "0    2024-12-23\n",
       "1    2024-12-21\n",
       "2    2024-12-18\n",
       "Name: date, dtype: object"
      ]
     },
     "execution_count": 109,
     "metadata": {},
     "output_type": "execute_result"
    }
   ],
   "source": [
    "# Update date format to YYYY-MM-DD (format now is DD-MM-YYYY)\n",
    "data_days[\"date\"] = pd.to_datetime(\n",
    "    data_days[\"date\"], format=\"%d-%m-%Y\"\n",
    ").dt.strftime(\"%Y-%m-%d\")\n",
    "\n",
    "time_slept[\"date\"] = pd.to_datetime(\n",
    "    time_slept[\"date\"], format=\"%d-%m-%Y\"\n",
    ").dt.strftime(\"%Y-%m-%d\")\n",
    "\n",
    "data_days[\"date\"].head()"
   ]
  },
  {
   "cell_type": "code",
   "execution_count": 110,
   "metadata": {},
   "outputs": [],
   "source": [
    "# Remove semicolons from context\n",
    "data_days[\"context\"] = data_days[\"context\"].str.replace(\";\", \"\")"
   ]
  },
  {
   "cell_type": "code",
   "execution_count": null,
   "metadata": {},
   "outputs": [
    {
     "data": {
      "text/html": [
       "<div>\n",
       "<style scoped>\n",
       "    .dataframe tbody tr th:only-of-type {\n",
       "        vertical-align: middle;\n",
       "    }\n",
       "\n",
       "    .dataframe tbody tr th {\n",
       "        vertical-align: top;\n",
       "    }\n",
       "\n",
       "    .dataframe thead th {\n",
       "        text-align: right;\n",
       "    }\n",
       "</style>\n",
       "<table border=\"1\" class=\"dataframe\">\n",
       "  <thead>\n",
       "    <tr style=\"text-align: right;\">\n",
       "      <th></th>\n",
       "      <th>date</th>\n",
       "      <th>mindState</th>\n",
       "      <th>associations</th>\n",
       "      <th>descriptions</th>\n",
       "      <th>context</th>\n",
       "    </tr>\n",
       "  </thead>\n",
       "  <tbody>\n",
       "    <tr>\n",
       "      <th>0</th>\n",
       "      <td>2024-12-23</td>\n",
       "      <td>Pleasant</td>\n",
       "      <td>Family;Friends</td>\n",
       "      <td>Peaceful;Happy;Joyful</td>\n",
       "      <td>Nephew birthday party</td>\n",
       "    </tr>\n",
       "    <tr>\n",
       "      <th>1</th>\n",
       "      <td>2024-12-21</td>\n",
       "      <td>Pleasant</td>\n",
       "      <td>Family;Friends</td>\n",
       "      <td>Happy;Grateful</td>\n",
       "      <td>Scout's Christmas Event</td>\n",
       "    </tr>\n",
       "    <tr>\n",
       "      <th>2</th>\n",
       "      <td>2024-12-18</td>\n",
       "      <td>Slightly pleasant</td>\n",
       "      <td>Education;Friends</td>\n",
       "      <td>Calm;Content</td>\n",
       "      <td>Two tests today one was tough one easy delicio...</td>\n",
       "    </tr>\n",
       "  </tbody>\n",
       "</table>\n",
       "</div>"
      ],
      "text/plain": [
       "         date          mindState       associations           descriptions  \\\n",
       "0  2024-12-23           Pleasant     Family;Friends  Peaceful;Happy;Joyful   \n",
       "1  2024-12-21           Pleasant     Family;Friends         Happy;Grateful   \n",
       "2  2024-12-18  Slightly pleasant  Education;Friends           Calm;Content   \n",
       "\n",
       "                                             context  \n",
       "0                              Nephew birthday party  \n",
       "1                            Scout's Christmas Event  \n",
       "2  Two tests today one was tough one easy delicio...  "
      ]
     },
     "execution_count": 111,
     "metadata": {},
     "output_type": "execute_result"
    }
   ],
   "source": [
    "# Map `mindState` column to string values\n",
    "MIND_STATE_MAP = {\n",
    "    -3: \"Very unpleasant\",\n",
    "    -2: \"Unpleasant\",\n",
    "    -1: \"Slightly unpleasant\",\n",
    "    0: \"Neutral\",\n",
    "    1: \"Slightly pleasant\",\n",
    "    2: \"Pleasant\",\n",
    "    3: \"Very pleasant\",\n",
    "}\n",
    "\n",
    "INVERSE_MIND_STATE_MAP = {v: k for k, v in MIND_STATE_MAP.items()}\n",
    "\n",
    "data_days[\"mindState\"] = data_days[\"mindState\"].map(MIND_STATE_MAP)\n",
    "data_days.head()"
   ]
  },
  {
   "cell_type": "markdown",
   "metadata": {},
   "source": [
    "### Associations"
   ]
  },
  {
   "cell_type": "code",
   "execution_count": 112,
   "metadata": {},
   "outputs": [
    {
     "data": {
      "text/html": [
       "<div>\n",
       "<style scoped>\n",
       "    .dataframe tbody tr th:only-of-type {\n",
       "        vertical-align: middle;\n",
       "    }\n",
       "\n",
       "    .dataframe tbody tr th {\n",
       "        vertical-align: top;\n",
       "    }\n",
       "\n",
       "    .dataframe thead th {\n",
       "        text-align: right;\n",
       "    }\n",
       "</style>\n",
       "<table border=\"1\" class=\"dataframe\">\n",
       "  <thead>\n",
       "    <tr style=\"text-align: right;\">\n",
       "      <th></th>\n",
       "      <th>date</th>\n",
       "      <th>associations</th>\n",
       "      <th>mindState</th>\n",
       "    </tr>\n",
       "  </thead>\n",
       "  <tbody>\n",
       "    <tr>\n",
       "      <th>0</th>\n",
       "      <td>2024-12-23</td>\n",
       "      <td>Family</td>\n",
       "      <td>Pleasant</td>\n",
       "    </tr>\n",
       "    <tr>\n",
       "      <th>0</th>\n",
       "      <td>2024-12-23</td>\n",
       "      <td>Friends</td>\n",
       "      <td>Pleasant</td>\n",
       "    </tr>\n",
       "    <tr>\n",
       "      <th>1</th>\n",
       "      <td>2024-12-21</td>\n",
       "      <td>Family</td>\n",
       "      <td>Pleasant</td>\n",
       "    </tr>\n",
       "    <tr>\n",
       "      <th>1</th>\n",
       "      <td>2024-12-21</td>\n",
       "      <td>Friends</td>\n",
       "      <td>Pleasant</td>\n",
       "    </tr>\n",
       "    <tr>\n",
       "      <th>2</th>\n",
       "      <td>2024-12-18</td>\n",
       "      <td>Education</td>\n",
       "      <td>Slightly pleasant</td>\n",
       "    </tr>\n",
       "  </tbody>\n",
       "</table>\n",
       "</div>"
      ],
      "text/plain": [
       "         date associations          mindState\n",
       "0  2024-12-23       Family           Pleasant\n",
       "0  2024-12-23      Friends           Pleasant\n",
       "1  2024-12-21       Family           Pleasant\n",
       "1  2024-12-21      Friends           Pleasant\n",
       "2  2024-12-18    Education  Slightly pleasant"
      ]
     },
     "execution_count": 112,
     "metadata": {},
     "output_type": "execute_result"
    }
   ],
   "source": [
    "# Associations are in format: `association1;association2;...`\n",
    "# Extract all associations into separate rows\n",
    "date_associations = data_days[[\"date\", \"associations\", \"mindState\"]].copy()\n",
    "date_associations[\"associations\"] = date_associations[\n",
    "    \"associations\"\n",
    "].str.split(\";\")\n",
    "\n",
    "date_associations = date_associations.explode(\"associations\")\n",
    "\n",
    "date_associations.head()"
   ]
  },
  {
   "cell_type": "markdown",
   "metadata": {},
   "source": [
    "### Descriptions"
   ]
  },
  {
   "cell_type": "code",
   "execution_count": 113,
   "metadata": {},
   "outputs": [
    {
     "data": {
      "text/html": [
       "<div>\n",
       "<style scoped>\n",
       "    .dataframe tbody tr th:only-of-type {\n",
       "        vertical-align: middle;\n",
       "    }\n",
       "\n",
       "    .dataframe tbody tr th {\n",
       "        vertical-align: top;\n",
       "    }\n",
       "\n",
       "    .dataframe thead th {\n",
       "        text-align: right;\n",
       "    }\n",
       "</style>\n",
       "<table border=\"1\" class=\"dataframe\">\n",
       "  <thead>\n",
       "    <tr style=\"text-align: right;\">\n",
       "      <th></th>\n",
       "      <th>date</th>\n",
       "      <th>descriptions</th>\n",
       "      <th>mindState</th>\n",
       "    </tr>\n",
       "  </thead>\n",
       "  <tbody>\n",
       "    <tr>\n",
       "      <th>0</th>\n",
       "      <td>2024-12-23</td>\n",
       "      <td>Peaceful</td>\n",
       "      <td>Pleasant</td>\n",
       "    </tr>\n",
       "    <tr>\n",
       "      <th>0</th>\n",
       "      <td>2024-12-23</td>\n",
       "      <td>Happy</td>\n",
       "      <td>Pleasant</td>\n",
       "    </tr>\n",
       "    <tr>\n",
       "      <th>0</th>\n",
       "      <td>2024-12-23</td>\n",
       "      <td>Joyful</td>\n",
       "      <td>Pleasant</td>\n",
       "    </tr>\n",
       "    <tr>\n",
       "      <th>1</th>\n",
       "      <td>2024-12-21</td>\n",
       "      <td>Happy</td>\n",
       "      <td>Pleasant</td>\n",
       "    </tr>\n",
       "    <tr>\n",
       "      <th>1</th>\n",
       "      <td>2024-12-21</td>\n",
       "      <td>Grateful</td>\n",
       "      <td>Pleasant</td>\n",
       "    </tr>\n",
       "    <tr>\n",
       "      <th>2</th>\n",
       "      <td>2024-12-18</td>\n",
       "      <td>Calm</td>\n",
       "      <td>Slightly pleasant</td>\n",
       "    </tr>\n",
       "    <tr>\n",
       "      <th>2</th>\n",
       "      <td>2024-12-18</td>\n",
       "      <td>Content</td>\n",
       "      <td>Slightly pleasant</td>\n",
       "    </tr>\n",
       "  </tbody>\n",
       "</table>\n",
       "</div>"
      ],
      "text/plain": [
       "         date descriptions          mindState\n",
       "0  2024-12-23     Peaceful           Pleasant\n",
       "0  2024-12-23        Happy           Pleasant\n",
       "0  2024-12-23       Joyful           Pleasant\n",
       "1  2024-12-21        Happy           Pleasant\n",
       "1  2024-12-21     Grateful           Pleasant\n",
       "2  2024-12-18         Calm  Slightly pleasant\n",
       "2  2024-12-18      Content  Slightly pleasant"
      ]
     },
     "execution_count": 113,
     "metadata": {},
     "output_type": "execute_result"
    }
   ],
   "source": [
    "# Do the same with `descriptions` column\n",
    "date_descriptions = data_days[[\"date\", \"descriptions\", \"mindState\"]].copy()\n",
    "date_descriptions[\"descriptions\"] = date_descriptions[\n",
    "    \"descriptions\"\n",
    "].str.split(\";\")\n",
    "\n",
    "date_descriptions = date_descriptions.explode(\"descriptions\")\n",
    "\n",
    "date_descriptions.head(10)"
   ]
  },
  {
   "cell_type": "markdown",
   "metadata": {},
   "source": [
    "### Context"
   ]
  },
  {
   "cell_type": "code",
   "execution_count": 114,
   "metadata": {},
   "outputs": [
    {
     "data": {
      "text/html": [
       "<div>\n",
       "<style scoped>\n",
       "    .dataframe tbody tr th:only-of-type {\n",
       "        vertical-align: middle;\n",
       "    }\n",
       "\n",
       "    .dataframe tbody tr th {\n",
       "        vertical-align: top;\n",
       "    }\n",
       "\n",
       "    .dataframe thead th {\n",
       "        text-align: right;\n",
       "    }\n",
       "</style>\n",
       "<table border=\"1\" class=\"dataframe\">\n",
       "  <thead>\n",
       "    <tr style=\"text-align: right;\">\n",
       "      <th></th>\n",
       "      <th>date</th>\n",
       "      <th>context</th>\n",
       "      <th>mindState</th>\n",
       "    </tr>\n",
       "  </thead>\n",
       "  <tbody>\n",
       "    <tr>\n",
       "      <th>0</th>\n",
       "      <td>2024-12-23</td>\n",
       "      <td>Nephew</td>\n",
       "      <td>Pleasant</td>\n",
       "    </tr>\n",
       "    <tr>\n",
       "      <th>0</th>\n",
       "      <td>2024-12-23</td>\n",
       "      <td>Birthday</td>\n",
       "      <td>Pleasant</td>\n",
       "    </tr>\n",
       "    <tr>\n",
       "      <th>0</th>\n",
       "      <td>2024-12-23</td>\n",
       "      <td>Party</td>\n",
       "      <td>Pleasant</td>\n",
       "    </tr>\n",
       "    <tr>\n",
       "      <th>1</th>\n",
       "      <td>2024-12-21</td>\n",
       "      <td>Scout's</td>\n",
       "      <td>Pleasant</td>\n",
       "    </tr>\n",
       "    <tr>\n",
       "      <th>1</th>\n",
       "      <td>2024-12-21</td>\n",
       "      <td>Christmas</td>\n",
       "      <td>Pleasant</td>\n",
       "    </tr>\n",
       "    <tr>\n",
       "      <th>1</th>\n",
       "      <td>2024-12-21</td>\n",
       "      <td>Event</td>\n",
       "      <td>Pleasant</td>\n",
       "    </tr>\n",
       "    <tr>\n",
       "      <th>2</th>\n",
       "      <td>2024-12-18</td>\n",
       "      <td>Two</td>\n",
       "      <td>Slightly pleasant</td>\n",
       "    </tr>\n",
       "    <tr>\n",
       "      <th>2</th>\n",
       "      <td>2024-12-18</td>\n",
       "      <td>Tests</td>\n",
       "      <td>Slightly pleasant</td>\n",
       "    </tr>\n",
       "    <tr>\n",
       "      <th>2</th>\n",
       "      <td>2024-12-18</td>\n",
       "      <td>Today</td>\n",
       "      <td>Slightly pleasant</td>\n",
       "    </tr>\n",
       "    <tr>\n",
       "      <th>2</th>\n",
       "      <td>2024-12-18</td>\n",
       "      <td>One</td>\n",
       "      <td>Slightly pleasant</td>\n",
       "    </tr>\n",
       "  </tbody>\n",
       "</table>\n",
       "</div>"
      ],
      "text/plain": [
       "         date    context          mindState\n",
       "0  2024-12-23     Nephew           Pleasant\n",
       "0  2024-12-23   Birthday           Pleasant\n",
       "0  2024-12-23      Party           Pleasant\n",
       "1  2024-12-21    Scout's           Pleasant\n",
       "1  2024-12-21  Christmas           Pleasant\n",
       "1  2024-12-21      Event           Pleasant\n",
       "2  2024-12-18        Two  Slightly pleasant\n",
       "2  2024-12-18      Tests  Slightly pleasant\n",
       "2  2024-12-18      Today  Slightly pleasant\n",
       "2  2024-12-18        One  Slightly pleasant"
      ]
     },
     "execution_count": 114,
     "metadata": {},
     "output_type": "execute_result"
    }
   ],
   "source": [
    "# For the context, we split by space and explode\n",
    "date_context = data_days[[\"date\", \"context\", \"mindState\"]].copy()\n",
    "date_context[\"context\"] = date_context[\"context\"].str.split(\" \")\n",
    "\n",
    "date_context = date_context.explode(\"context\")\n",
    "\n",
    "# Strip leading and trailing whitespaces and capitalize\n",
    "date_context[\"context\"] = date_context[\"context\"].str.strip().str.capitalize()\n",
    "\n",
    "date_context.head(10)"
   ]
  },
  {
   "cell_type": "code",
   "execution_count": 115,
   "metadata": {},
   "outputs": [
    {
     "data": {
      "text/html": [
       "<div>\n",
       "<style scoped>\n",
       "    .dataframe tbody tr th:only-of-type {\n",
       "        vertical-align: middle;\n",
       "    }\n",
       "\n",
       "    .dataframe tbody tr th {\n",
       "        vertical-align: top;\n",
       "    }\n",
       "\n",
       "    .dataframe thead th {\n",
       "        text-align: right;\n",
       "    }\n",
       "</style>\n",
       "<table border=\"1\" class=\"dataframe\">\n",
       "  <thead>\n",
       "    <tr style=\"text-align: right;\">\n",
       "      <th></th>\n",
       "      <th>date</th>\n",
       "      <th>context</th>\n",
       "      <th>mindState</th>\n",
       "    </tr>\n",
       "  </thead>\n",
       "  <tbody>\n",
       "    <tr>\n",
       "      <th>0</th>\n",
       "      <td>2024-12-23</td>\n",
       "      <td>Nephew</td>\n",
       "      <td>Pleasant</td>\n",
       "    </tr>\n",
       "    <tr>\n",
       "      <th>0</th>\n",
       "      <td>2024-12-23</td>\n",
       "      <td>Birthday</td>\n",
       "      <td>Pleasant</td>\n",
       "    </tr>\n",
       "    <tr>\n",
       "      <th>0</th>\n",
       "      <td>2024-12-23</td>\n",
       "      <td>Party</td>\n",
       "      <td>Pleasant</td>\n",
       "    </tr>\n",
       "    <tr>\n",
       "      <th>1</th>\n",
       "      <td>2024-12-21</td>\n",
       "      <td>Scout</td>\n",
       "      <td>Pleasant</td>\n",
       "    </tr>\n",
       "    <tr>\n",
       "      <th>1</th>\n",
       "      <td>2024-12-21</td>\n",
       "      <td>Christmas</td>\n",
       "      <td>Pleasant</td>\n",
       "    </tr>\n",
       "  </tbody>\n",
       "</table>\n",
       "</div>"
      ],
      "text/plain": [
       "         date    context mindState\n",
       "0  2024-12-23     Nephew  Pleasant\n",
       "0  2024-12-23   Birthday  Pleasant\n",
       "0  2024-12-23      Party  Pleasant\n",
       "1  2024-12-21      Scout  Pleasant\n",
       "1  2024-12-21  Christmas  Pleasant"
      ]
     },
     "execution_count": 115,
     "metadata": {},
     "output_type": "execute_result"
    }
   ],
   "source": [
    "# TODO: UPDATE WORDS\n",
    "update_words = {\n",
    "    # Those with empty string are removed\n",
    "    \"a\": \"\",\n",
    "    \"the\": \"\",\n",
    "    \"and\": \"\",\n",
    "    \"of\": \"\",\n",
    "    \"to\": \"\",\n",
    "    \"was\": \"\",\n",
    "    \"in\": \"\",\n",
    "    \"on\": \"\",\n",
    "    \"with\": \"\",\n",
    "    \"for\": \"\",\n",
    "    \"my\": \"\",\n",
    "    \"at\": \"\",\n",
    "    \"from\": \"\",\n",
    "    \"i\": \"\",\n",
    "    \"by\": \"\",\n",
    "    \"it\": \"\",\n",
    "    \"is\": \"\",\n",
    "    \"that\": \"\",\n",
    "}\n",
    "\n",
    "date_context[\"context\"] = date_context[\"context\"].replace(update_words)\n",
    "# Remove empty strings\n",
    "date_context = date_context[date_context[\"context\"] != \"\"]\n",
    "\n",
    "# Remove `'s` from words\n",
    "date_context[\"context\"] = date_context[\"context\"].str.replace(\"'s\", \"\")\n",
    "\n",
    "date_context.head()"
   ]
  },
  {
   "cell_type": "markdown",
   "metadata": {},
   "source": [
    "### Combine"
   ]
  },
  {
   "cell_type": "code",
   "execution_count": 116,
   "metadata": {},
   "outputs": [
    {
     "data": {
      "text/html": [
       "<div>\n",
       "<style scoped>\n",
       "    .dataframe tbody tr th:only-of-type {\n",
       "        vertical-align: middle;\n",
       "    }\n",
       "\n",
       "    .dataframe tbody tr th {\n",
       "        vertical-align: top;\n",
       "    }\n",
       "\n",
       "    .dataframe thead th {\n",
       "        text-align: right;\n",
       "    }\n",
       "</style>\n",
       "<table border=\"1\" class=\"dataframe\">\n",
       "  <thead>\n",
       "    <tr style=\"text-align: right;\">\n",
       "      <th></th>\n",
       "      <th>date</th>\n",
       "      <th>word</th>\n",
       "      <th>mindState</th>\n",
       "    </tr>\n",
       "  </thead>\n",
       "  <tbody>\n",
       "    <tr>\n",
       "      <th>0</th>\n",
       "      <td>2024-12-23</td>\n",
       "      <td>Family</td>\n",
       "      <td>Pleasant</td>\n",
       "    </tr>\n",
       "    <tr>\n",
       "      <th>1</th>\n",
       "      <td>2024-12-23</td>\n",
       "      <td>Friends</td>\n",
       "      <td>Pleasant</td>\n",
       "    </tr>\n",
       "    <tr>\n",
       "      <th>2</th>\n",
       "      <td>2024-12-21</td>\n",
       "      <td>Family</td>\n",
       "      <td>Pleasant</td>\n",
       "    </tr>\n",
       "    <tr>\n",
       "      <th>3</th>\n",
       "      <td>2024-12-21</td>\n",
       "      <td>Friends</td>\n",
       "      <td>Pleasant</td>\n",
       "    </tr>\n",
       "    <tr>\n",
       "      <th>4</th>\n",
       "      <td>2024-12-18</td>\n",
       "      <td>Education</td>\n",
       "      <td>Slightly pleasant</td>\n",
       "    </tr>\n",
       "  </tbody>\n",
       "</table>\n",
       "</div>"
      ],
      "text/plain": [
       "         date       word          mindState\n",
       "0  2024-12-23     Family           Pleasant\n",
       "1  2024-12-23    Friends           Pleasant\n",
       "2  2024-12-21     Family           Pleasant\n",
       "3  2024-12-21    Friends           Pleasant\n",
       "4  2024-12-18  Education  Slightly pleasant"
      ]
     },
     "execution_count": 116,
     "metadata": {},
     "output_type": "execute_result"
    }
   ],
   "source": [
    "# Combine all dataframes into one by concatenating them\n",
    "date_word = pd.concat(\n",
    "    [\n",
    "        date_associations.rename(columns={\"associations\": \"word\"}),\n",
    "        date_descriptions.rename(columns={\"descriptions\": \"word\"}),\n",
    "        date_context.rename(columns={\"context\": \"word\"}),\n",
    "    ]\n",
    ").reset_index(drop=True)\n",
    "\n",
    "# Set all words capital\n",
    "date_word[\"word\"] = date_word[\"word\"].str.capitalize()\n",
    "\n",
    "date_word.head()"
   ]
  },
  {
   "cell_type": "markdown",
   "metadata": {},
   "source": [
    "### Date, Time and Mind State"
   ]
  },
  {
   "cell_type": "code",
   "execution_count": 117,
   "metadata": {},
   "outputs": [
    {
     "data": {
      "text/html": [
       "<div>\n",
       "<style scoped>\n",
       "    .dataframe tbody tr th:only-of-type {\n",
       "        vertical-align: middle;\n",
       "    }\n",
       "\n",
       "    .dataframe tbody tr th {\n",
       "        vertical-align: top;\n",
       "    }\n",
       "\n",
       "    .dataframe thead th {\n",
       "        text-align: right;\n",
       "    }\n",
       "</style>\n",
       "<table border=\"1\" class=\"dataframe\">\n",
       "  <thead>\n",
       "    <tr style=\"text-align: right;\">\n",
       "      <th></th>\n",
       "      <th>date</th>\n",
       "      <th>sleep</th>\n",
       "    </tr>\n",
       "  </thead>\n",
       "  <tbody>\n",
       "    <tr>\n",
       "      <th>0</th>\n",
       "      <td>2024-12-23</td>\n",
       "      <td>7:46</td>\n",
       "    </tr>\n",
       "    <tr>\n",
       "      <th>1</th>\n",
       "      <td>2024-12-21</td>\n",
       "      <td>4:43</td>\n",
       "    </tr>\n",
       "    <tr>\n",
       "      <th>2</th>\n",
       "      <td>2024-12-18</td>\n",
       "      <td>7:30</td>\n",
       "    </tr>\n",
       "  </tbody>\n",
       "</table>\n",
       "</div>"
      ],
      "text/plain": [
       "         date sleep\n",
       "0  2024-12-23  7:46\n",
       "1  2024-12-21  4:43\n",
       "2  2024-12-18  7:30"
      ]
     },
     "execution_count": 117,
     "metadata": {},
     "output_type": "execute_result"
    }
   ],
   "source": [
    "time_slept.head()"
   ]
  },
  {
   "cell_type": "code",
   "execution_count": 118,
   "metadata": {},
   "outputs": [
    {
     "data": {
      "text/html": [
       "<div>\n",
       "<style scoped>\n",
       "    .dataframe tbody tr th:only-of-type {\n",
       "        vertical-align: middle;\n",
       "    }\n",
       "\n",
       "    .dataframe tbody tr th {\n",
       "        vertical-align: top;\n",
       "    }\n",
       "\n",
       "    .dataframe thead th {\n",
       "        text-align: right;\n",
       "    }\n",
       "</style>\n",
       "<table border=\"1\" class=\"dataframe\">\n",
       "  <thead>\n",
       "    <tr style=\"text-align: right;\">\n",
       "      <th></th>\n",
       "      <th>date</th>\n",
       "      <th>sleep</th>\n",
       "    </tr>\n",
       "  </thead>\n",
       "  <tbody>\n",
       "    <tr>\n",
       "      <th>0</th>\n",
       "      <td>2024-12-23</td>\n",
       "      <td>7.77</td>\n",
       "    </tr>\n",
       "    <tr>\n",
       "      <th>1</th>\n",
       "      <td>2024-12-21</td>\n",
       "      <td>4.72</td>\n",
       "    </tr>\n",
       "    <tr>\n",
       "      <th>2</th>\n",
       "      <td>2024-12-18</td>\n",
       "      <td>7.50</td>\n",
       "    </tr>\n",
       "  </tbody>\n",
       "</table>\n",
       "</div>"
      ],
      "text/plain": [
       "         date  sleep\n",
       "0  2024-12-23   7.77\n",
       "1  2024-12-21   4.72\n",
       "2  2024-12-18   7.50"
      ]
     },
     "execution_count": 118,
     "metadata": {},
     "output_type": "execute_result"
    }
   ],
   "source": [
    "# Sleep time is in format HH:MM\n",
    "# Transform to hours only\n",
    "time_slept[\"sleep\"] = (\n",
    "    time_slept[\"sleep\"]\n",
    "    .str.split(\":\")\n",
    "    .apply(lambda x: int(x[0]) + int(x[1]) / 60)\n",
    "    .round(2)\n",
    ")\n",
    "\n",
    "time_slept.head()"
   ]
  },
  {
   "cell_type": "code",
   "execution_count": 119,
   "metadata": {},
   "outputs": [
    {
     "data": {
      "text/html": [
       "<div>\n",
       "<style scoped>\n",
       "    .dataframe tbody tr th:only-of-type {\n",
       "        vertical-align: middle;\n",
       "    }\n",
       "\n",
       "    .dataframe tbody tr th {\n",
       "        vertical-align: top;\n",
       "    }\n",
       "\n",
       "    .dataframe thead th {\n",
       "        text-align: right;\n",
       "    }\n",
       "</style>\n",
       "<table border=\"1\" class=\"dataframe\">\n",
       "  <thead>\n",
       "    <tr style=\"text-align: right;\">\n",
       "      <th></th>\n",
       "      <th>date</th>\n",
       "      <th>mindState</th>\n",
       "      <th>sleep</th>\n",
       "    </tr>\n",
       "  </thead>\n",
       "  <tbody>\n",
       "    <tr>\n",
       "      <th>0</th>\n",
       "      <td>2024-12-23</td>\n",
       "      <td>2</td>\n",
       "      <td>7.77</td>\n",
       "    </tr>\n",
       "    <tr>\n",
       "      <th>1</th>\n",
       "      <td>2024-12-21</td>\n",
       "      <td>2</td>\n",
       "      <td>4.72</td>\n",
       "    </tr>\n",
       "    <tr>\n",
       "      <th>2</th>\n",
       "      <td>2024-12-18</td>\n",
       "      <td>1</td>\n",
       "      <td>7.50</td>\n",
       "    </tr>\n",
       "  </tbody>\n",
       "</table>\n",
       "</div>"
      ],
      "text/plain": [
       "         date  mindState  sleep\n",
       "0  2024-12-23          2   7.77\n",
       "1  2024-12-21          2   4.72\n",
       "2  2024-12-18          1   7.50"
      ]
     },
     "execution_count": 119,
     "metadata": {},
     "output_type": "execute_result"
    }
   ],
   "source": [
    "# Merge time slept with data_days to create a single dataframe\n",
    "# With columns date, timeSlept, mindState\n",
    "date_mind_sleep = pd.merge(\n",
    "    data_days[[\"date\", \"mindState\"]], time_slept, on=\"date\", how=\"left\"\n",
    ")\n",
    "\n",
    "# Change mindState to numerical values\n",
    "date_mind_sleep[\"mindState\"] = date_mind_sleep[\"mindState\"].map(\n",
    "    INVERSE_MIND_STATE_MAP\n",
    ")\n",
    "\n",
    "date_mind_sleep.head()"
   ]
  },
  {
   "cell_type": "markdown",
   "metadata": {},
   "source": [
    "## Network Table"
   ]
  },
  {
   "cell_type": "markdown",
   "metadata": {},
   "source": [
    "### Nodes"
   ]
  },
  {
   "cell_type": "code",
   "execution_count": 120,
   "metadata": {},
   "outputs": [
    {
     "name": "stdout",
     "output_type": "stream",
     "text": [
      "Shape of nodes: (29, 2)\n"
     ]
    },
    {
     "data": {
      "text/html": [
       "<div>\n",
       "<style scoped>\n",
       "    .dataframe tbody tr th:only-of-type {\n",
       "        vertical-align: middle;\n",
       "    }\n",
       "\n",
       "    .dataframe tbody tr th {\n",
       "        vertical-align: top;\n",
       "    }\n",
       "\n",
       "    .dataframe thead th {\n",
       "        text-align: right;\n",
       "    }\n",
       "</style>\n",
       "<table border=\"1\" class=\"dataframe\">\n",
       "  <thead>\n",
       "    <tr style=\"text-align: right;\">\n",
       "      <th></th>\n",
       "      <th>date</th>\n",
       "      <th>word</th>\n",
       "    </tr>\n",
       "  </thead>\n",
       "  <tbody>\n",
       "    <tr>\n",
       "      <th>0</th>\n",
       "      <td>2024-12-23</td>\n",
       "      <td>Family</td>\n",
       "    </tr>\n",
       "    <tr>\n",
       "      <th>1</th>\n",
       "      <td>2024-12-23</td>\n",
       "      <td>Friends</td>\n",
       "    </tr>\n",
       "    <tr>\n",
       "      <th>2</th>\n",
       "      <td>2024-12-21</td>\n",
       "      <td>Family</td>\n",
       "    </tr>\n",
       "    <tr>\n",
       "      <th>3</th>\n",
       "      <td>2024-12-21</td>\n",
       "      <td>Friends</td>\n",
       "    </tr>\n",
       "    <tr>\n",
       "      <th>4</th>\n",
       "      <td>2024-12-18</td>\n",
       "      <td>Education</td>\n",
       "    </tr>\n",
       "  </tbody>\n",
       "</table>\n",
       "</div>"
      ],
      "text/plain": [
       "         date       word\n",
       "0  2024-12-23     Family\n",
       "1  2024-12-23    Friends\n",
       "2  2024-12-21     Family\n",
       "3  2024-12-21    Friends\n",
       "4  2024-12-18  Education"
      ]
     },
     "execution_count": 120,
     "metadata": {},
     "output_type": "execute_result"
    }
   ],
   "source": [
    "nodes = date_word.drop(\"mindState\", axis=1)\n",
    "print(\"Shape of nodes:\", nodes.shape)\n",
    "nodes.head()"
   ]
  },
  {
   "cell_type": "markdown",
   "metadata": {},
   "source": [
    "## Export data"
   ]
  },
  {
   "cell_type": "code",
   "execution_count": 121,
   "metadata": {},
   "outputs": [],
   "source": [
    "# Export data as CSV\n",
    "nodes.to_csv(\"public/nodes.csv\", index=False)\n",
    "\n",
    "date_mind_sleep.to_csv(\"public/day_stats.csv\", index=False)"
   ]
  }
 ],
 "metadata": {
  "kernelspec": {
   "display_name": "Python 3",
   "language": "python",
   "name": "python3"
  },
  "language_info": {
   "codemirror_mode": {
    "name": "ipython",
    "version": 3
   },
   "file_extension": ".py",
   "mimetype": "text/x-python",
   "name": "python",
   "nbconvert_exporter": "python",
   "pygments_lexer": "ipython3",
   "version": "3.11.4"
  }
 },
 "nbformat": 4,
 "nbformat_minor": 2
}
